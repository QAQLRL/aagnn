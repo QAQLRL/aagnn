{
 "cells": [
  {
   "cell_type": "code",
   "execution_count": 2,
   "metadata": {},
   "outputs": [],
   "source": [
    "import os, json,time\n",
    "import pandas as pd\n",
    "import numpy as np\n"
   ]
  },
  {
   "cell_type": "code",
   "execution_count": 15,
   "metadata": {},
   "outputs": [],
   "source": [
    "df=pd.read_json('dataset/jdft_3d-8-18-2021.json') "
   ]
  },
  {
   "cell_type": "code",
   "execution_count": 26,
   "metadata": {},
   "outputs": [],
   "source": [
    "# 读取 JSON 文件\n",
    "with open('dataset/jdft_3d-8-18-2021.json', 'r') as f:\n",
    "    data = f.read()\n",
    "\n",
    "# 将字符串 \"na\" 替换为缺失值（NaN）\n",
    "data = data.replace('\"na\"', 'NaN')\n",
    "\n",
    "# 解析 JSON 数据\n",
    "df = pd.read_json(data)"
   ]
  },
  {
   "cell_type": "code",
   "execution_count": 46,
   "metadata": {},
   "outputs": [
    {
     "data": {
      "text/plain": [
       "slme\n",
       "0.00     2554\n",
       "5.84      654\n",
       "33.83      46\n",
       "0.01       41\n",
       "0.03       23\n",
       "         ... \n",
       "30.18       1\n",
       "14.27       1\n",
       "21.18       1\n",
       "4.17        1\n",
       "10.22       1\n",
       "Name: count, Length: 1191, dtype: int64"
      ]
     },
     "execution_count": 46,
     "metadata": {},
     "output_type": "execute_result"
    }
   ],
   "source": [
    "df['slme'].dropna().value_counts()"
   ]
  },
  {
   "cell_type": "code",
   "execution_count": 39,
   "metadata": {},
   "outputs": [
    {
     "name": "stdout",
     "output_type": "stream",
     "text": [
      "<class 'pandas.core.frame.DataFrame'>\n",
      "RangeIndex: 55723 entries, 0 to 55722\n",
      "Data columns (total 63 columns):\n",
      " #   Column                                Non-Null Count  Dtype  \n",
      "---  ------                                --------------  -----  \n",
      " 0   jid                                   55723 non-null  object \n",
      " 1   spg_number                            55723 non-null  int64  \n",
      " 2   spg_symbol                            55723 non-null  object \n",
      " 3   formula                               55723 non-null  object \n",
      " 4   formation_energy_peratom              55723 non-null  float64\n",
      " 5   func                                  55723 non-null  object \n",
      " 6   optb88vdw_bandgap                     55723 non-null  float64\n",
      " 7   atoms                                 55723 non-null  object \n",
      " 8   slme                                  9068 non-null   float64\n",
      " 9   magmom_oszicar                        52221 non-null  float64\n",
      " 10  spillage                              11377 non-null  float64\n",
      " 11  elastic_tensor                        20667 non-null  object \n",
      " 12  effective_masses_300K                 55723 non-null  object \n",
      " 13  kpoint_length_unit                    55402 non-null  float64\n",
      " 14  maxdiff_mesh                          5861 non-null   float64\n",
      " 15  maxdiff_bz                            5861 non-null   float64\n",
      " 16  encut                                 55397 non-null  float64\n",
      " 17  optb88vdw_total_energy                55723 non-null  float64\n",
      " 18  epsx                                  44491 non-null  float64\n",
      " 19  epsy                                  44491 non-null  float64\n",
      " 20  epsz                                  44491 non-null  float64\n",
      " 21  mepsx                                 16814 non-null  float64\n",
      " 22  mepsy                                 16814 non-null  float64\n",
      " 23  mepsz                                 16814 non-null  float64\n",
      " 24  modes                                 13901 non-null  object \n",
      " 25  magmom_outcar                         53993 non-null  float64\n",
      " 26  max_efg                               11867 non-null  float64\n",
      " 27  avg_elec_mass                         17643 non-null  float64\n",
      " 28  avg_hole_mass                         17643 non-null  float64\n",
      " 29  icsd                                  55723 non-null  object \n",
      " 30  dfpt_piezo_max_eij                    4799 non-null   float64\n",
      " 31  dfpt_piezo_max_dij                    3347 non-null   float64\n",
      " 32  dfpt_piezo_max_dielectric             4706 non-null   float64\n",
      " 33  dfpt_piezo_max_dielectric_electronic  4809 non-null   float64\n",
      " 34  dfpt_piezo_max_dielectric_ionic       4809 non-null   float64\n",
      " 35  max_ir_mode                           4805 non-null   float64\n",
      " 36  min_ir_mode                           4809 non-null   float64\n",
      " 37  n-Seebeck                             23210 non-null  float64\n",
      " 38  p-Seebeck                             23210 non-null  float64\n",
      " 39  n-powerfact                           23210 non-null  float64\n",
      " 40  p-powerfact                           23210 non-null  float64\n",
      " 41  ncond                                 23210 non-null  float64\n",
      " 42  pcond                                 23210 non-null  float64\n",
      " 43  nkappa                                23210 non-null  float64\n",
      " 44  pkappa                                23210 non-null  float64\n",
      " 45  ehull                                 55371 non-null  float64\n",
      " 46  dimensionality                        55185 non-null  object \n",
      " 47  efg                                   55723 non-null  object \n",
      " 48  xml_data_link                         55723 non-null  object \n",
      " 49  typ                                   55723 non-null  object \n",
      " 50  exfoliation_energy                    813 non-null    float64\n",
      " 51  spg                                   55723 non-null  int64  \n",
      " 52  crys                                  55723 non-null  object \n",
      " 53  density                               55723 non-null  float64\n",
      " 54  poisson                               19465 non-null  float64\n",
      " 55  raw_files                             55723 non-null  object \n",
      " 56  nat                                   55723 non-null  int64  \n",
      " 57  bulk_modulus_kv                       19680 non-null  float64\n",
      " 58  shear_modulus_gv                      19680 non-null  float64\n",
      " 59  mbj_bandgap                           18172 non-null  float64\n",
      " 60  hse_gap                               56 non-null     float64\n",
      " 61  reference                             55723 non-null  object \n",
      " 62  search                                55723 non-null  object \n",
      "dtypes: float64(43), int64(3), object(17)\n",
      "memory usage: 26.8+ MB\n"
     ]
    }
   ],
   "source": [
    "df.info()"
   ]
  },
  {
   "cell_type": "code",
   "execution_count": null,
   "metadata": {},
   "outputs": [],
   "source": [
    "df.loc[df['optb88vdw_bandgap'] <= 0.01, 'optb88vdw_bandgap'] = 0\n",
    "df.loc[df['optb88vdw_bandgap'] > 0.01 , 'optb88vdw_bandgap'] = 1"
   ]
  },
  {
   "cell_type": "code",
   "execution_count": null,
   "metadata": {
    "collapsed": true,
    "jupyter": {
     "outputs_hidden": true
    },
    "tags": []
   },
   "outputs": [],
   "source": [
    "df.loc[df['optb88vdw_bandgap']  == 0, 'optb88vdw_bandgap'].count()"
   ]
  },
  {
   "cell_type": "code",
   "execution_count": 32,
   "metadata": {},
   "outputs": [
    {
     "data": {
      "text/plain": [
       "0    0.0\n",
       "1    0.0\n",
       "2    0.0\n",
       "3    0.0\n",
       "4    0.0\n",
       "Name: magmom_oszicar, dtype: float64"
      ]
     },
     "execution_count": 32,
     "metadata": {},
     "output_type": "execute_result"
    }
   ],
   "source": [
    "df['magmom_oszicar'].head()"
   ]
  },
  {
   "cell_type": "code",
   "execution_count": 37,
   "metadata": {},
   "outputs": [
    {
     "data": {
      "text/plain": [
       "nan"
      ]
     },
     "execution_count": 37,
     "metadata": {},
     "output_type": "execute_result"
    }
   ],
   "source": [
    "df['magmom_oszicar'][55719]"
   ]
  },
  {
   "cell_type": "code",
   "execution_count": 38,
   "metadata": {},
   "outputs": [
    {
     "data": {
      "text/plain": [
       "12.861"
      ]
     },
     "execution_count": 38,
     "metadata": {},
     "output_type": "execute_result"
    }
   ],
   "source": [
    "df['magmom_outcar'][55719]"
   ]
  },
  {
   "cell_type": "code",
   "execution_count": 3,
   "metadata": {
    "collapsed": true,
    "jupyter": {
     "outputs_hidden": true
    },
    "tags": []
   },
   "outputs": [
    {
     "data": {
      "text/plain": [
       "Index(['jid', 'spg_number', 'spg_symbol', 'formula',\n",
       "       'formation_energy_peratom', 'func', 'optb88vdw_bandgap', 'atoms',\n",
       "       'slme', 'magmom_oszicar', 'spillage', 'elastic_tensor',\n",
       "       'effective_masses_300K', 'kpoint_length_unit', 'maxdiff_mesh',\n",
       "       'maxdiff_bz', 'encut', 'optb88vdw_total_energy', 'epsx', 'epsy', 'epsz',\n",
       "       'mepsx', 'mepsy', 'mepsz', 'modes', 'magmom_outcar', 'max_efg',\n",
       "       'avg_elec_mass', 'avg_hole_mass', 'icsd', 'dfpt_piezo_max_eij',\n",
       "       'dfpt_piezo_max_dij', 'dfpt_piezo_max_dielectric',\n",
       "       'dfpt_piezo_max_dielectric_electronic',\n",
       "       'dfpt_piezo_max_dielectric_ionic', 'max_ir_mode', 'min_ir_mode',\n",
       "       'n-Seebeck', 'p-Seebeck', 'n-powerfact', 'p-powerfact', 'ncond',\n",
       "       'pcond', 'nkappa', 'pkappa', 'ehull', 'dimensionality', 'efg',\n",
       "       'xml_data_link', 'typ', 'exfoliation_energy', 'spg', 'crys', 'density',\n",
       "       'poisson', 'raw_files', 'nat', 'bulk_modulus_kv', 'shear_modulus_gv',\n",
       "       'mbj_bandgap', 'hse_gap', 'reference', 'search'],\n",
       "      dtype='object')"
      ]
     },
     "execution_count": 3,
     "metadata": {},
     "output_type": "execute_result"
    }
   ],
   "source": [
    "df.columns"
   ]
  },
  {
   "cell_type": "code",
   "execution_count": null,
   "metadata": {
    "collapsed": true,
    "jupyter": {
     "outputs_hidden": true
    },
    "tags": []
   },
   "outputs": [],
   "source": [
    "df.info()"
   ]
  },
  {
   "cell_type": "code",
   "execution_count": null,
   "metadata": {},
   "outputs": [],
   "source": [
    "data = df.loc[:,['atoms','formation_energy_peratom','optb88vdw_bandgap','optb88vdw_total_energy','ehull','mbj_bandgap']]"
   ]
  },
  {
   "cell_type": "code",
   "execution_count": null,
   "metadata": {},
   "outputs": [],
   "source": [
    "target_name = ['formation_energy_peratom','optb88vdw_bandgap','optb88vdw_total_energy','ehull','mbj_bandgap']"
   ]
  },
  {
   "cell_type": "code",
   "execution_count": null,
   "metadata": {},
   "outputs": [],
   "source": [
    "target = data[target_name]"
   ]
  },
  {
   "cell_type": "code",
   "execution_count": null,
   "metadata": {},
   "outputs": [],
   "source": [
    "target.info()"
   ]
  },
  {
   "cell_type": "code",
   "execution_count": null,
   "metadata": {},
   "outputs": [],
   "source": [
    "ehull = pd.to_numeric(target.loc[:,'ehull'], errors='coerce')\n",
    "mbj_bandgap = pd.to_numeric(target.loc[:,'mbj_bandgap'], errors='coerce')"
   ]
  },
  {
   "cell_type": "code",
   "execution_count": null,
   "metadata": {
    "collapsed": true,
    "jupyter": {
     "outputs_hidden": true
    },
    "tags": []
   },
   "outputs": [],
   "source": [
    "ehull"
   ]
  },
  {
   "cell_type": "code",
   "execution_count": null,
   "metadata": {
    "collapsed": true,
    "jupyter": {
     "outputs_hidden": true
    },
    "tags": []
   },
   "outputs": [],
   "source": [
    "target.info()"
   ]
  },
  {
   "cell_type": "code",
   "execution_count": null,
   "metadata": {
    "collapsed": true,
    "jupyter": {
     "outputs_hidden": true
    },
    "tags": []
   },
   "outputs": [],
   "source": [
    "target['ehull']=ehull\n",
    "target['mbj_bandgap']=mbj_bandgap"
   ]
  },
  {
   "cell_type": "code",
   "execution_count": null,
   "metadata": {
    "collapsed": true,
    "jupyter": {
     "outputs_hidden": true
    },
    "tags": []
   },
   "outputs": [],
   "source": [
    "target.drop(labels=\"mbj_bandgap\",axis = 1,inplace=True)\n",
    "target.dropna(inplace=True)"
   ]
  },
  {
   "cell_type": "code",
   "execution_count": null,
   "metadata": {},
   "outputs": [],
   "source": [
    "target.shape"
   ]
  },
  {
   "cell_type": "code",
   "execution_count": null,
   "metadata": {},
   "outputs": [],
   "source": [
    "df = df[['atoms','formation_energy_peratom']].rename(columns={'formation_energy_peratom':'target'})"
   ]
  },
  {
   "cell_type": "code",
   "execution_count": null,
   "metadata": {},
   "outputs": [],
   "source": [
    "import torch\n",
    "df = torch.load('/hy-tmp/mp_structure_graph_gap_pbe.pt')\n"
   ]
  },
  {
   "cell_type": "code",
   "execution_count": null,
   "metadata": {
    "collapsed": true,
    "jupyter": {
     "outputs_hidden": true
    },
    "tags": []
   },
   "outputs": [],
   "source": [
    "df[0]"
   ]
  },
  {
   "cell_type": "code",
   "execution_count": null,
   "metadata": {},
   "outputs": [],
   "source": [
    "with open('config.json','r',encoding='utf8')as fp:\n",
    "        config = json.load(fp)\n",
    "from train import   train\n",
    "from AttentionAlignn.model import BondAngleGraphAttention\n",
    "from AttentionAlignn.config import TrainingConfig\n",
    "train_config = TrainingConfig(**config)\n",
    "\n"
   ]
  },
  {
   "cell_type": "code",
   "execution_count": null,
   "metadata": {
    "tags": []
   },
   "outputs": [],
   "source": [
    "t1 = time.time()\n",
    "net = BondAngleGraphAttention(train_config.model)\n",
    "#训练模型\n",
    "train(net,df,train_config)\n",
    "t2 = time.time()\n",
    "print(\"Time taken (s):\", t2 - t1)"
   ]
  },
  {
   "cell_type": "code",
   "execution_count": null,
   "metadata": {},
   "outputs": [],
   "source": [
    "import pandas as pd"
   ]
  },
  {
   "cell_type": "code",
   "execution_count": null,
   "metadata": {},
   "outputs": [],
   "source": [
    "megnet = pd.read_json('jdft_3d-8-18-2021.json')"
   ]
  },
  {
   "cell_type": "code",
   "execution_count": null,
   "metadata": {
    "collapsed": true,
    "jupyter": {
     "outputs_hidden": true
    },
    "tags": []
   },
   "outputs": [],
   "source": [
    "megnet.atoms[0]"
   ]
  },
  {
   "cell_type": "code",
   "execution_count": null,
   "metadata": {},
   "outputs": [],
   "source": [
    "qm9 = pd.read_json('/hy-tmp/qm9_std_jctc.json')"
   ]
  },
  {
   "cell_type": "code",
   "execution_count": null,
   "metadata": {
    "collapsed": true,
    "jupyter": {
     "outputs_hidden": true
    },
    "tags": []
   },
   "outputs": [],
   "source": [
    "megnet.info()"
   ]
  },
  {
   "cell_type": "code",
   "execution_count": null,
   "metadata": {
    "collapsed": true,
    "jupyter": {
     "outputs_hidden": true
    },
    "tags": []
   },
   "outputs": [],
   "source": [
    "qm9.info()"
   ]
  },
  {
   "cell_type": "code",
   "execution_count": null,
   "metadata": {},
   "outputs": [],
   "source": [
    "megnet.shape"
   ]
  },
  {
   "cell_type": "code",
   "execution_count": null,
   "metadata": {
    "collapsed": true,
    "jupyter": {
     "outputs_hidden": true
    },
    "tags": []
   },
   "outputs": [],
   "source": [
    "megnet.head()"
   ]
  },
  {
   "cell_type": "code",
   "execution_count": null,
   "metadata": {},
   "outputs": [],
   "source": [
    "import pandas as pd\n",
    "import json"
   ]
  },
  {
   "cell_type": "code",
   "execution_count": null,
   "metadata": {},
   "outputs": [],
   "source": [
    "with open('config.json','r',encoding='utf8')as fp:\n",
    "        config = json.load(fp)"
   ]
  },
  {
   "cell_type": "code",
   "execution_count": null,
   "metadata": {
    "collapsed": true,
    "jupyter": {
     "outputs_hidden": true
    },
    "tags": []
   },
   "outputs": [],
   "source": [
    "config"
   ]
  },
  {
   "cell_type": "code",
   "execution_count": null,
   "metadata": {
    "tags": []
   },
   "outputs": [],
   "source": [
    "import pandas as pd\n",
    "import json\n",
    "\n"
   ]
  },
  {
   "cell_type": "code",
   "execution_count": null,
   "metadata": {},
   "outputs": [],
   "source": [
    "perovsites = pd.read_json('predicted_mixed_perovskites.json')\n",
    "perovsites.head()"
   ]
  },
  {
   "cell_type": "code",
   "execution_count": null,
   "metadata": {},
   "outputs": [],
   "source": [
    "from pymatgen.entries.computed_entries import ComputedStructureEntry\n",
    "import json\n",
    "import os\n",
    "data = json.load(open('predicted_mixed_perovskites.json','r')) \n",
    "entries = [ComputedStructureEntry.from_dict(i) for i in data]"
   ]
  },
  {
   "cell_type": "code",
   "execution_count": null,
   "metadata": {},
   "outputs": [],
   "source": [
    "import pandas as pd\n",
    "e_form=[]\n",
    "atoms=[]\n",
    "formula=[]\n",
    "sp =[]\n",
    "for entry in entries:\n",
    "    if entry.name == 'BaSrCa2Cu':\n",
    "        sp.append(entry)\n",
    "    formula.append(entry.name)\n",
    "    e_form.append(entry.data['e-form'])\n",
    "    atoms.append(entry.structure.as_dict())\n",
    "df = pd.DataFrame({'formula':formula,'atoms':atoms,'e_form':e_form})"
   ]
  },
  {
   "cell_type": "code",
   "execution_count": null,
   "metadata": {},
   "outputs": [],
   "source": [
    "df.formula[df.formula.duplicated()]"
   ]
  },
  {
   "cell_type": "code",
   "execution_count": null,
   "metadata": {},
   "outputs": [],
   "source": [
    "re = df[df.formula=='BaSrCa2Cu']"
   ]
  },
  {
   "cell_type": "code",
   "execution_count": null,
   "metadata": {},
   "outputs": [],
   "source": [
    "r1= re.iloc[0]\n",
    "r2 = re.iloc[1]"
   ]
  },
  {
   "cell_type": "code",
   "execution_count": null,
   "metadata": {
    "collapsed": true,
    "jupyter": {
     "outputs_hidden": true
    },
    "tags": []
   },
   "outputs": [],
   "source": [
    "r1.atoms "
   ]
  },
  {
   "cell_type": "code",
   "execution_count": null,
   "metadata": {
    "collapsed": true,
    "jupyter": {
     "outputs_hidden": true
    },
    "tags": []
   },
   "outputs": [],
   "source": [
    "r2.atoms"
   ]
  },
  {
   "cell_type": "code",
   "execution_count": null,
   "metadata": {},
   "outputs": [],
   "source": [
    "e1=sp[0]\n",
    "e2=sp[1]"
   ]
  },
  {
   "cell_type": "code",
   "execution_count": null,
   "metadata": {},
   "outputs": [],
   "source": [
    "e1"
   ]
  },
  {
   "cell_type": "code",
   "execution_count": null,
   "metadata": {},
   "outputs": [],
   "source": [
    "e2"
   ]
  },
  {
   "cell_type": "code",
   "execution_count": null,
   "metadata": {
    "collapsed": true,
    "jupyter": {
     "outputs_hidden": true
    },
    "tags": []
   },
   "outputs": [],
   "source": [
    "from pymatgen.core.structure import Structure\n",
    "Structure.from_dict(df.iloc[0].atoms).as_dict()"
   ]
  },
  {
   "cell_type": "code",
   "execution_count": null,
   "metadata": {},
   "outputs": [],
   "source": [
    "from jarvis.core.atoms import Atoms\n",
    "box = [[2.715, 2.715, 0], [0, 2.715, 2.715], [2.715, 0, 2.715]]\n",
    "coords = [[0, 0, 0], [0.25, 0.25, 0.25]]\n",
    "elements = [\"Si\", \"Si\"]\n",
    "Si = Atoms(lattice_mat=box, coords=coords, elements=elements, cartesian=False)"
   ]
  },
  {
   "cell_type": "code",
   "execution_count": null,
   "metadata": {},
   "outputs": [],
   "source": [
    "Si.to_dict()"
   ]
  },
  {
   "cell_type": "code",
   "execution_count": null,
   "metadata": {},
   "outputs": [],
   "source": [
    "fi = entries[0]"
   ]
  },
  {
   "cell_type": "code",
   "execution_count": null,
   "metadata": {},
   "outputs": [],
   "source": [
    "fi"
   ]
  },
  {
   "cell_type": "code",
   "execution_count": null,
   "metadata": {},
   "outputs": [],
   "source": [
    "path = 'predicted_mixed_perovskites'\n",
    "id_prop=os.path.join(path,'id_prop.csv')\n",
    "id_df=[]\n",
    "for entry in entries:\n",
    "    id_df.append({'file':entry.name+'.cif','e_form':entry.data['e-form']})\n",
    "    entry.structure.to(path+'/'+entry.name+'.cif')\n"
   ]
  },
  {
   "cell_type": "code",
   "execution_count": null,
   "metadata": {},
   "outputs": [],
   "source": [
    "pd.DataFrame(id_df).to_csv(id_prop,header=None,index=None)"
   ]
  },
  {
   "cell_type": "code",
   "execution_count": null,
   "metadata": {},
   "outputs": [],
   "source": [
    "import pandas as pd\n",
    "import os\n",
    "path = 'predicted_mixed_perovskites'\n",
    "id_prop=os.path.join(path,'id_prop.csv')\n",
    "pd.read_csv(id_prop,header=None,index_col=False)"
   ]
  },
  {
   "cell_type": "code",
   "execution_count": null,
   "metadata": {},
   "outputs": [],
   "source": [
    "len(entries)"
   ]
  },
  {
   "cell_type": "code",
   "execution_count": null,
   "metadata": {},
   "outputs": [],
   "source": [
    "len(x)"
   ]
  },
  {
   "cell_type": "code",
   "execution_count": null,
   "metadata": {},
   "outputs": [],
   "source": [
    "x = os.listdir('predicted_mixed_perovskites')\n",
    "type(x)"
   ]
  },
  {
   "cell_type": "code",
   "execution_count": null,
   "metadata": {},
   "outputs": [],
   "source": [
    "import json, bz2, pickle, gzip as gz\n",
    "from pymatgen.entries.computed_entries import ComputedStructureEntry\n",
    "\n",
    "with bz2.open(\"dcgat_1_000.json.bz2\") as fh:\n",
    "  data = json.loads(fh.read().decode('utf-8'))\n",
    "\n",
    "entries = [ComputedStructureEntry.from_dict(i) for i in data[\"entries\"][:1000]]"
   ]
  },
  {
   "cell_type": "code",
   "execution_count": null,
   "metadata": {},
   "outputs": [],
   "source": [
    "from pymatgen.core import Structure\n",
    "\n",
    "# 创建一个示例结构\n",
    "structure = Structure.from_spacegroup(\"Fd-3m\", \n",
    "                                      [[0, 0, 0], [0, 0.25, 0],[0.25, 0, 0]], \n",
    "                                      [\"Si\"], \n",
    "                                      [[4, 4, 4]])\n",
    "\n",
    "# 获取第一个原子的所有邻居\n",
    "neighbors = structure.get_all_neighbors(3.0)\n",
    "\n",
    "# 打印邻居原子的索引和位置\n",
    "for neighbor in neighbors:\n",
    "    print(neighbor)\n"
   ]
  },
  {
   "cell_type": "code",
   "execution_count": null,
   "metadata": {},
   "outputs": [],
   "source": [
    "# 获取第一个原子的所有邻居的索引\n",
    "neighbors_indices = structure.get_all_neighbors(3.0, include_index=True)\n",
    "print(neighbors_indices)\n"
   ]
  },
  {
   "cell_type": "code",
   "execution_count": 17,
   "metadata": {},
   "outputs": [],
   "source": [
    "from collections import OrderedDict\n",
    "\n",
    "import torch\n",
    "from torch import nn, optim\n",
    "\n",
    "from ignite.engine import *\n",
    "from ignite.handlers import *\n",
    "from ignite.metrics import *\n",
    "from ignite.utils import *\n",
    "from ignite.contrib.metrics.regression import *\n",
    "from ignite.contrib.metrics import *\n",
    "\n",
    "# create default evaluator for doctests\n",
    "\n",
    "def eval_step(engine, batch):\n",
    "    return batch\n",
    "\n",
    "default_evaluator = Engine(eval_step)\n",
    "\n",
    "# create default optimizer for doctests\n",
    "\n",
    "param_tensor = torch.zeros([1], requires_grad=True)\n",
    "default_optimizer = torch.optim.SGD([param_tensor], lr=0.1)\n",
    "\n",
    "# create default trainer for doctests\n",
    "# as handlers could be attached to the trainer,\n",
    "# each test must define his own trainer using `.. testsetup:`\n",
    "\n",
    "def get_default_trainer():\n",
    "\n",
    "    def train_step(engine, batch):\n",
    "        return batch\n",
    "\n",
    "    return Engine(train_step)\n",
    "\n",
    "# create default model for doctests\n",
    "\n",
    "default_model = nn.Sequential(OrderedDict([\n",
    "    ('base', nn.Linear(4, 2)),\n",
    "    ('fc', nn.Linear(2, 2))\n",
    "]))\n",
    "\n",
    "manual_seed(666)"
   ]
  },
  {
   "cell_type": "code",
   "execution_count": 18,
   "metadata": {},
   "outputs": [
    {
     "name": "stdout",
     "output_type": "stream",
     "text": [
      "Precision: tensor([0.0000, 0.6667], dtype=torch.float64)\n",
      "Weighted Precision: 0.4444444444444444\n",
      "Precision for class 0 and class 1: tensor([0.0000, 0.6667], dtype=torch.float64)\n"
     ]
    }
   ],
   "source": [
    "metric = Precision()\n",
    "weighted_metric = Precision(average='weighted')\n",
    "two_class_metric = Precision(average=None) # Returns precision for both classes\n",
    "metric.attach(default_evaluator, \"precision\")\n",
    "weighted_metric.attach(default_evaluator, \"weighted precision\")\n",
    "two_class_metric.attach(default_evaluator, \"both classes precision\")\n",
    "y_true = torch.tensor([1, 0, 1, 1, 0, 1])\n",
    "# y_pred = torch.tensor([1, 0, 1, 0, 1, 1])\n",
    "y_pred = torch.tensor([\n",
    "        [-0.6983, -0.6880],\n",
    "        [-0.6970, -0.6893],\n",
    "        [-0.6976, -0.6888],\n",
    "        [-0.6967, -0.6896],\n",
    "        [-0.6972, -0.6891],\n",
    "        [-0.6976, -0.6887],\n",
    "        ])\n",
    "state = default_evaluator.run([[y_pred, y_true]])\n",
    "print(f\"Precision: {state.metrics['precision']}\")\n",
    "print(f\"Weighted Precision: {state.metrics['weighted precision']}\")\n",
    "print(f\"Precision for class 0 and class 1: {state.metrics['both classes precision']}\")"
   ]
  },
  {
   "cell_type": "code",
   "execution_count": 19,
   "metadata": {},
   "outputs": [
    {
     "name": "stdout",
     "output_type": "stream",
     "text": [
      "Precision for class 0: 0.0000\n",
      "Precision for class 1: 0.6667\n"
     ]
    }
   ],
   "source": [
    "for class_id, class_precision in enumerate(state.metrics['precision']):\n",
    "    print(f\"Precision for class {class_id}: {class_precision:.4f}\")"
   ]
  },
  {
   "cell_type": "code",
   "execution_count": 5,
   "metadata": {},
   "outputs": [],
   "source": [
    "m = nn.LogSoftmax()\n",
    "input = torch.randn(2)\n",
    "output = m(input)"
   ]
  },
  {
   "cell_type": "code",
   "execution_count": 6,
   "metadata": {},
   "outputs": [
    {
     "data": {
      "text/plain": [
       "tensor([-0.0722, -0.4916])"
      ]
     },
     "execution_count": 6,
     "metadata": {},
     "output_type": "execute_result"
    }
   ],
   "source": [
    "output"
   ]
  },
  {
   "cell_type": "code",
   "execution_count": 7,
   "metadata": {},
   "outputs": [
    {
     "data": {
      "text/plain": [
       "tensor([2.5916, 0.4542])"
      ]
     },
     "execution_count": 7,
     "metadata": {},
     "output_type": "execute_result"
    }
   ],
   "source": [
    "input"
   ]
  },
  {
   "cell_type": "code",
   "execution_count": null,
   "metadata": {},
   "outputs": [],
   "source": []
  }
 ],
 "metadata": {
  "kernelspec": {
   "display_name": "ml_material",
   "language": "python",
   "name": "python3"
  },
  "language_info": {
   "codemirror_mode": {
    "name": "ipython",
    "version": 3
   },
   "file_extension": ".py",
   "mimetype": "text/x-python",
   "name": "python",
   "nbconvert_exporter": "python",
   "pygments_lexer": "ipython3",
   "version": "3.8.0"
  },
  "vscode": {
   "interpreter": {
    "hash": "d58af361ead05892a8e64acfd1fbc7ffc10e125085f601d9fef220636838447f"
   }
  }
 },
 "nbformat": 4,
 "nbformat_minor": 4
}
